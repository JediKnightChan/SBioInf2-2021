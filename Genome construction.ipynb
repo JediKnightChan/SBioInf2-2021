{
 "cells": [
  {
   "cell_type": "markdown",
   "id": "d266b799-e384-4d85-8569-00993ecd4214",
   "metadata": {},
   "source": [
    "# Сборка генома"
   ]
  },
  {
   "cell_type": "code",
   "execution_count": null,
   "id": "d9cb01b1-2f8a-4926-a654-0ddcc898f61a",
   "metadata": {},
   "outputs": [],
   "source": [
    "# !spades.py -s pacbio_20x.fq.gz -o pacbio"
   ]
  },
  {
   "cell_type": "code",
   "execution_count": null,
   "id": "353174b3-2b64-4d76-9897-dfe4af8d8fb8",
   "metadata": {},
   "outputs": [],
   "source": [
    "# !spades.py -1 illumina.100x.1.fq.gz -2 illumina.100x.2.fq.gz --isolate -o illumina"
   ]
  },
  {
   "cell_type": "code",
   "execution_count": null,
   "id": "ee03d894-a364-446c-8ee7-00b62b15a84a",
   "metadata": {},
   "outputs": [],
   "source": [
    "# !spades.py -1 illumina.100x.1.fq.gz -2 illumina.100x.2.fq.gz --pacbio pacbio_20x.fq.gz -o hybrid"
   ]
  },
  {
   "cell_type": "code",
   "execution_count": null,
   "id": "47ece363-c53b-4688-b1d3-7ec0186daa82",
   "metadata": {},
   "outputs": [],
   "source": [
    "# !cd illumina; quast.py contigs.fasta -r ../reference.fasta -1 ../illumina.100x.1.fq.gz  -2 ../illumina.100x.2.fq.gz -o analysis"
   ]
  },
  {
   "cell_type": "code",
   "execution_count": null,
   "id": "883be86e-12d5-4e25-928b-caaa25759a75",
   "metadata": {},
   "outputs": [],
   "source": [
    "# !cd pacbio; quast.py contigs.fasta -r ../reference.fasta --single ../pacbio_20x.fq.gz -o analysis"
   ]
  },
  {
   "cell_type": "code",
   "execution_count": null,
   "id": "f25a3638-f5c1-448d-8df9-a70560c27297",
   "metadata": {},
   "outputs": [],
   "source": [
    "# !cd hybrid; quast.py contigs.fasta -r ../reference.fasta -1 ../illumina.100x.1.fq.gz  -2 ../illumina.100x.2.fq.gz -o analysis"
   ]
  },
  {
   "cell_type": "markdown",
   "id": "a15c7d32-7e29-4367-9812-e6a2938d81db",
   "metadata": {},
   "source": [
    "Интерпретация результатов: \n",
    "- PacBio - не использовать в одиночку (суммарная длина контигов 82816)\n",
    "- Illumina - хороший результат (суммарная длина близка к длине генома, 250 контигов)\n",
    "- PacBio + Illumina - меньше контигов"
   ]
  }
 ],
 "metadata": {
  "kernelspec": {
   "display_name": "Kernel for NGS practicals",
   "language": "python",
   "name": "ngs"
  },
  "language_info": {
   "codemirror_mode": {
    "name": "ipython",
    "version": 3
   },
   "file_extension": ".py",
   "mimetype": "text/x-python",
   "name": "python",
   "nbconvert_exporter": "python",
   "pygments_lexer": "ipython3",
   "version": "3.7.10"
  }
 },
 "nbformat": 4,
 "nbformat_minor": 5
}
