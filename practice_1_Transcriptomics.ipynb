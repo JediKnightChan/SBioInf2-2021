{
 "cells": [
  {
   "cell_type": "markdown",
   "id": "0a7426c6",
   "metadata": {},
   "source": [
    "# ТРАНСКРИПТОМИКА  (Июль 2021 г.)"
   ]
  },
  {
   "cell_type": "markdown",
   "id": "c1f38cbb",
   "metadata": {},
   "source": [
    "## ПРАКТИКА 1. Пробоподготовка и секвенирование транскриптома, подсчет числа транскриптов<br/>"
   ]
  },
  {
   "cell_type": "markdown",
   "id": "8ccbfc36",
   "metadata": {},
   "source": [
    "1.1. Подготовка эксперимента<br>\n",
    "1.2. Идентификация GC-чувствительных генов<br>\n",
    "1.3. Способы измерения экспрессии генов RPKM, FPKM, TPM<br>\n",
    "1.4. Использование аннотированного транскриптома для подсчета экспрессии генов<br>\n",
    "1.5. Индексация транскриптома и подсчет экспрессии генов в программе SALMON<br>"
   ]
  },
  {
   "cell_type": "markdown",
   "id": "94ff5bc4",
   "metadata": {},
   "source": [
    "---"
   ]
  },
  {
   "cell_type": "markdown",
   "id": "37ab69b2",
   "metadata": {},
   "source": [
    "## 1.1 Подготовка эксперимента"
   ]
  },
  {
   "cell_type": "markdown",
   "id": "a9612f45",
   "metadata": {},
   "source": [
    "**Астма** - это хроническое воспалительное респираторное заболевание, которым страдают более 300 миллионов человек во всем мире.\n",
    "\n",
    "**Глюкокортикоиды (GC)** являются основной терапией астмы, поскольку они оказывают противовоспалительное действие на различные ткани легких, включая **гладкую мускулатуру дыхательных путей (airway smooth muscle cells - ASM)**. \n",
    "\n",
    "Действие глюкокортикоидов на клетки-мишени осуществляется, главным образом, на уровне регуляции транскрипции генов. Оно опосредуется взаимодействием глюкокортикоидов на специфические глюкокортикоидные внутриклеточные рецепторы (GC receptors - GR).\n",
    "\n",
    "После проникновения через мембрану внутрь клетки глюкокортикоиды связываются с этими рецепторами, транспортируются в ядро, где взаимодействуют с участками ДНК, расположенными в промоторном фрагменте стероид-отвечающего гена — т.н. глюкокортикоид-отвечающими элементами (glucocorticoid response element, GRE) и регулируют (активируют или подавляют) процесс транскрипции определенных генов. Это приводит к стимуляции или подавлению образования мРНК различных регуляторных белков и ферментов, опосредующих клеточные эффекты."
   ]
  },
  {
   "cell_type": "markdown",
   "id": "f7b0d742",
   "metadata": {},
   "source": [
    "<img src=\"10.jpg\"/>"
   ]
  },
  {
   "cell_type": "markdown",
   "id": "a04fe17e",
   "metadata": {},
   "source": [
    "[Ссылка на статью c рисунком](https://doi.org/10.1016/j.pupt.2014.08.008)\n"
   ]
  },
  {
   "cell_type": "markdown",
   "id": "7f2572a2",
   "metadata": {},
   "source": [
    "---"
   ]
  },
  {
   "cell_type": "markdown",
   "id": "e7d047b2",
   "metadata": {},
   "source": [
    "## 1.2 Идентификация GC-чувствительных генов"
   ]
  },
  {
   "cell_type": "markdown",
   "id": "725ce682",
   "metadata": {},
   "source": [
    "Воздействие на клетки ASM дексаметазоном (DEX) в течении 18 часов - мощным синетическим глюкокортикоидом.\n",
    "Суть эксперимента - выяснить какие гены отвественны за оказание противовоспалительного ответа клетки.\n",
    "\n",
    "Для проведения эксперимента были отобраны 4 линии клеток гладкой мускулатуры дыхательных путей, на которые воздействовали DEX, после чего была выделена тотальная РНК и оценен уровень экспрессии. Результаты экспрессии тех или иных генов будут говорить об их активности в ответ на воздействие глюкокортикоидами."
   ]
  },
  {
   "cell_type": "markdown",
   "id": "55a7a380",
   "metadata": {},
   "source": [
    "[Ссылка на статью](https://pubmed.ncbi.nlm.nih.gov/24926665/)"
   ]
  },
  {
   "cell_type": "markdown",
   "id": "bd62d7c4",
   "metadata": {},
   "source": [
    "<img src=\"2.jpg\" width=\"1000\" height=\"1000\" style=\"float:center\"/>"
   ]
  },
  {
   "cell_type": "markdown",
   "id": "b122f6df",
   "metadata": {},
   "source": [
    "---"
   ]
  },
  {
   "cell_type": "markdown",
   "id": "3eac83b1",
   "metadata": {},
   "source": [
    "## 1.3 Способы измерения экспрессии генов RPKM, FPKM, TPM"
   ]
  },
  {
   "cell_type": "markdown",
   "id": "479e84d8",
   "metadata": {},
   "source": [
    "### Нормализация RPKM (Reads Per Kilobase Million)"
   ]
  },
  {
   "cell_type": "markdown",
   "id": "41d25224",
   "metadata": {},
   "source": [
    "Общее количество прочтений, собранных на 4 гена приведены в таблице:"
   ]
  },
  {
   "cell_type": "markdown",
   "id": "d54f8287",
   "metadata": {},
   "source": [
    "| Ген (длина) | Эксперимент 1 | Эксперимент 2 | Эксперимент 3 |\n",
    "| :- | :- | :-| :-|\n",
    "|A (2 kb) | 10 | 12 | 30 |\n",
    "|B (4 kb) | 20 | 25 | 60 |\n",
    "|C (1 kb) | 5 | 8 | 15 |\n",
    "|D (10 kb) | 0 | 0 | 1 |\n",
    "| **Число прочтений:** | **35** | **45** | **106** |\n",
    "| **в десятках:** | **3.5** | **4.5** | **10.6** |"
   ]
  },
  {
   "cell_type": "markdown",
   "id": "c0c38318",
   "metadata": {},
   "source": [
    "В эксперименте 3 было больше прочтений, чем в первых двух, а ген A в 2 раза длинее гена B"
   ]
  },
  {
   "cell_type": "markdown",
   "id": "6e0c8228",
   "metadata": {},
   "source": [
    "Пересчет числа ридов в десятки - Scaling factor, который определяет \"per million\".   \n",
    "Если бы общее число ридов равнялось 3500000 штук, то после Scaling factor значение было бы 3.5"
   ]
  },
  {
   "cell_type": "markdown",
   "id": "c7e75d72",
   "metadata": {},
   "source": [
    "Первый этап: расчет **RPM** (Reads per million) - число ридов на 1 млн от общего числа ридов, т.е. для гена A в эксперименте 1: **10 / 3,5 = 2,86**"
   ]
  },
  {
   "cell_type": "markdown",
   "id": "71e93465",
   "metadata": {},
   "source": [
    "| Ген (длина) | Эксперимент 1 RPM | Эксперимент 2 RPM | Эксперимент 3 RPM |\n",
    "| :- | :- | :-| :-|\n",
    "|A (2 kb) | 2.86 | 2.67 | 2.83 |\n",
    "|B (4 kb) | 5.71 | 5.56 | 5.66 |\n",
    "|C (1 kb) | 1.43 | 1.78 | 1.42 |\n",
    "|D (10 kb) | 0.00 | 0.00 | 0.90 |"
   ]
  },
  {
   "cell_type": "markdown",
   "id": "8bd3923a",
   "metadata": {},
   "source": [
    "Второй этап: Расчет **RPKM** - Нормализация данных по длине рида, т.е. для гена A в эксперименте 1: **2.86 / 2 (kb) = 1.43**"
   ]
  },
  {
   "cell_type": "markdown",
   "id": "baed674a",
   "metadata": {},
   "source": [
    "| Ген (длина) | Эксперимент 1 RPKM | Эксперимент 2 RPKM | Эксперимент 3 RPKM |\n",
    "| :- | :- | :-| :-|\n",
    "|A (2 kb) | 1.43 | 1.33 | 1.42 |\n",
    "|B (4 kb) | 1.43 | 1.39 | 1.42 |\n",
    "|C (1 kb) | 1.43 | 1.78 | 1.42 |\n",
    "|D (10 kb) | 0.00 | 0.00 | 0.009 |"
   ]
  },
  {
   "cell_type": "markdown",
   "id": "f92d5de6",
   "metadata": {},
   "source": [
    "**RPKM - Reads Per Kilobase Million** - для не парных ридов                       \n",
    "**FPKM - Fragments Per Kilobase Million** - для парных ридов, собираемых во \"Fragment\""
   ]
  },
  {
   "cell_type": "markdown",
   "id": "8a446dbe",
   "metadata": {},
   "source": [
    "### Нормализация TPM (Transcripts Per Million)"
   ]
  },
  {
   "cell_type": "markdown",
   "id": "a8dea231",
   "metadata": {},
   "source": [
    "Оригинальная таблица:"
   ]
  },
  {
   "cell_type": "markdown",
   "id": "bd80bbf5",
   "metadata": {},
   "source": [
    "| Ген (длина) | Эксперимент 1 | Эксперимент 2 | Эксперимент 3 |\n",
    "| :- | :- | :-| :-|\n",
    "|A (2 kb) | 10 | 12 | 30 |\n",
    "|B (4 kb) | 20 | 25 | 60 |\n",
    "|C (1 kb) | 5 | 8 | 15 |\n",
    "|D (10 kb) | 0 | 0 | 1 |"
   ]
  },
  {
   "cell_type": "markdown",
   "id": "2ef2c431",
   "metadata": {},
   "source": [
    "Первый этап: расчет **RPK** (Reads per kilobase) - число ридов на 1 kb длины гена, т.е. для гена А в эксперименте 1: **10 / 2 (kb) = 5**"
   ]
  },
  {
   "cell_type": "markdown",
   "id": "300b4301",
   "metadata": {},
   "source": [
    "| Ген (длина) | Эксперимент 1 RPK | Эксперимент 2 RPK | Эксперимент 3 RPK |\n",
    "| :- | :- | :-| :-|\n",
    "|A (2 kb) | 5 | 6 | 15 |\n",
    "|B (4 kb) | 5 | 6.25 | 15 |\n",
    "|C (1 kb) | 5 | 8 | 15 |\n",
    "|D (10 kb) | 0.00 | 0.00 | 0.1 |\n",
    "| **Число RPK:** | **15** | **20.25** | **45.1** |\n",
    "| **RPK в десятках:** | **1.5** | **2.025** | **4.51** |"
   ]
  },
  {
   "cell_type": "markdown",
   "id": "ab7063e9",
   "metadata": {},
   "source": [
    "Общее число RPK для всех генов эксперимента 1: **5+5+5+0 = 15**, в десятках - **1.5**"
   ]
  },
  {
   "cell_type": "markdown",
   "id": "3970a640",
   "metadata": {},
   "source": [
    "Второй этап: расчет **TPM** - нормализация **RPK** по глубине секвенирования, т.е. для гена А в эксперименте 1: **5 / 1.5 = 3,33**"
   ]
  },
  {
   "cell_type": "markdown",
   "id": "dc8ca07c",
   "metadata": {},
   "source": [
    "| Ген (длина) | Эксперимент 1 TPM | Эксперимент 2 TPM | Эксперимент 3 TPM |\n",
    "| :- | :- | :-| :-|\n",
    "|A (2 kb) | 3,33 | 2.96 | 3.326 |\n",
    "|B (4 kb) | 3,33 | 3.09 | 3.326 |\n",
    "|C (1 kb) | 3,33 | 3.95 | 3.326 |\n",
    "|D (10 kb) | 0.00 | 0.00 | 0.02 |"
   ]
  },
  {
   "cell_type": "markdown",
   "id": "48232da1",
   "metadata": {},
   "source": [
    "### RPKM - FPKM vs TPM"
   ]
  },
  {
   "cell_type": "markdown",
   "id": "9e3b5a90",
   "metadata": {},
   "source": [
    "<center> Результаты RPKM: </center>"
   ]
  },
  {
   "cell_type": "markdown",
   "id": "64d275d7",
   "metadata": {},
   "source": [
    "| Ген (длина) | Эксперимент 1 RPKM | Эксперимент 2 RPKM | Эксперимент 3 RPKM |\n",
    "| :- | :- | :-| :-|\n",
    "|A (2 kb) | 1.43 | 1.33 | 1.42 |\n",
    "|B (4 kb) | 1.43 | 1.39 | 1.42 |\n",
    "|C (1 kb) | 1.43 | 1.78 | 1.42 |\n",
    "|D (10 kb) | 0.00 | 0.00 | 0.009 |\n",
    "|**Сумма:** | **4.29** | **4.5** | **4.25** |"
   ]
  },
  {
   "cell_type": "markdown",
   "id": "9f7ab1c1",
   "metadata": {},
   "source": [
    "<center> Результаты TPM: </center>"
   ]
  },
  {
   "cell_type": "markdown",
   "id": "bf89f29a",
   "metadata": {},
   "source": [
    "| Ген (длина) | Эксперимент 1 TPM | Эксперимент 2 TPM | Эксперимент 3 TPM |\n",
    "| :- | :- | :-| :-|\n",
    "|A (2 kb) | 3,33 | 2.96 | 3.326 |\n",
    "|B (4 kb) | 3,33 | 3.09 | 3.326 |\n",
    "|C (1 kb) | 3,33 | 3.95 | 3.326 |\n",
    "|D (10 kb) | 0.00 | 0.00 | 0.02 |\n",
    "|**Сумма:** | **10** | **10** | **10** |"
   ]
  },
  {
   "cell_type": "markdown",
   "id": "66098f8e",
   "metadata": {},
   "source": [
    "TPM позволяет получить более сравнимые результаты между разными экспериментами"
   ]
  },
  {
   "cell_type": "markdown",
   "id": "02cca2f2",
   "metadata": {},
   "source": [
    "---"
   ]
  },
  {
   "cell_type": "markdown",
   "id": "dfd3c55b",
   "metadata": {},
   "source": [
    "## 1.4 Использование аннотированного транскриптома для подсчета экспрессии генов"
   ]
  },
  {
   "cell_type": "markdown",
   "id": "155b0bb3",
   "metadata": {},
   "source": [
    "Ниже приведен пример локализации гена CRISPLD2 в геноме человека"
   ]
  },
  {
   "cell_type": "markdown",
   "id": "46308065",
   "metadata": {},
   "source": [
    "<img src=\"3.jpg\" width=\"800\" height=\"800\" style=\"float:center\"/>\n"
   ]
  },
  {
   "cell_type": "markdown",
   "id": "6ba135a9",
   "metadata": {},
   "source": [
    "Для расчета экспрессии генов методом TPM необходимо скачать последовательности всех транскриптов для хромосом (Transcript sequences) в формате fasta.<br/>Ссылка на сайт: https://www.gencodegenes.org/human/"
   ]
  },
  {
   "cell_type": "markdown",
   "id": "d145bdc3",
   "metadata": {},
   "source": [
    "Перепишите скачанный файл в отдельную директорию <br/>"
   ]
  },
  {
   "cell_type": "markdown",
   "id": "94ec1959",
   "metadata": {},
   "source": [
    "---"
   ]
  },
  {
   "cell_type": "markdown",
   "id": "ec945f5c",
   "metadata": {},
   "source": [
    "## 1.5 Индексация транскриптома и подсчет экспрессии генов в программе SALMON"
   ]
  },
  {
   "cell_type": "markdown",
   "id": "1f8cdddc",
   "metadata": {},
   "source": [
    "![Image of Yaktocat](https://combine-lab.github.io/salmon/images/SalmonLogo.png)"
   ]
  },
  {
   "cell_type": "markdown",
   "id": "83a25b24",
   "metadata": {},
   "source": [
    "Программа **Salmon** позволяет выполнить индексацию транскриптома и количественную оценку экспрессии транскриптов с использованием данных RNA-seq"
   ]
  },
  {
   "cell_type": "markdown",
   "id": "89577c27",
   "metadata": {},
   "source": [
    "### Запуск индексации транскриптома с использованием программы **Salmon**"
   ]
  },
  {
   "cell_type": "code",
   "execution_count": 7,
   "id": "8d3eedee-56ab-45b7-bb38-7081b4cb2ecb",
   "metadata": {},
   "outputs": [
    {
     "name": "stdout",
     "output_type": "stream",
     "text": [
      "gencode.v38.transcripts.fa.gz\n"
     ]
    }
   ],
   "source": [
    "# Создайте директорию и перепишите в нее файл с транскриптомом человека:\n",
    "!cd data; ls"
   ]
  },
  {
   "cell_type": "code",
   "execution_count": 8,
   "id": "a1c1c0c6",
   "metadata": {
    "tags": []
   },
   "outputs": [],
   "source": [
    "Index_output = ! /opt/salmon-1.5.1_linux_x86_64/bin/salmon index --threads 1 --gencode \\\n",
    "-t \"./data/gencode.v38.transcripts.fa.gz\" \\\n",
    "-i \"./data/output\""
   ]
  },
  {
   "cell_type": "markdown",
   "id": "aae1c893",
   "metadata": {},
   "source": [
    "Вывод хода индексации транскриптома"
   ]
  },
  {
   "cell_type": "markdown",
   "id": "c89989d3",
   "metadata": {},
   "source": [
    "Далее в используемую вами директорию необходимо переписать файлы SRR1039508_1_short.fastq и SRR1039508_2_short.fastq"
   ]
  },
  {
   "cell_type": "markdown",
   "id": "a9dac9c1",
   "metadata": {},
   "source": [
    "### Запуск количественной оценки экспрессии генов с использованием программы **Salmon**"
   ]
  },
  {
   "cell_type": "code",
   "execution_count": null,
   "id": "fb3b5828-47b2-408a-a4b2-5b2df047196a",
   "metadata": {},
   "outputs": [],
   "source": [
    "Перепишите в свою директорию два файла:\n",
    "SRR1039508_1_short.fastq\n",
    "SRR1039508_2_short.fastq"
   ]
  },
  {
   "cell_type": "code",
   "execution_count": 12,
   "id": "8e7536d9-decb-4c83-9682-ddffda285408",
   "metadata": {},
   "outputs": [],
   "source": [
    "Quant_out = ! /opt/salmon-1.5.1_linux_x86_64/bin/salmon quant \\\n",
    "-i \"./data/output/\" \\\n",
    "-l A --threads 1 --validateMappings --gcBias --numGibbsSamples 20 \\\n",
    "-1 SRR1039508_1_short.fastq \\\n",
    "-2 SRR1039508_2_short.fastq \\\n",
    "-o \"./data/quants/\" "
   ]
  },
  {
   "cell_type": "markdown",
   "id": "621f5d88",
   "metadata": {},
   "source": [
    "Вывод хода количественной оценки экспрессии генов"
   ]
  },
  {
   "cell_type": "markdown",
   "id": "4c5a25f0",
   "metadata": {},
   "source": [
    "### Считывание полученного файла:"
   ]
  },
  {
   "cell_type": "code",
   "execution_count": 9,
   "id": "dff3fee5-d72b-4020-aac2-b1474a0e2918",
   "metadata": {},
   "outputs": [
    {
     "data": {
      "text/html": [
       "<div>\n",
       "<style scoped>\n",
       "    .dataframe tbody tr th:only-of-type {\n",
       "        vertical-align: middle;\n",
       "    }\n",
       "\n",
       "    .dataframe tbody tr th {\n",
       "        vertical-align: top;\n",
       "    }\n",
       "\n",
       "    .dataframe thead th {\n",
       "        text-align: right;\n",
       "    }\n",
       "</style>\n",
       "<table border=\"1\" class=\"dataframe\">\n",
       "  <thead>\n",
       "    <tr style=\"text-align: right;\">\n",
       "      <th></th>\n",
       "      <th>Name</th>\n",
       "      <th>Length</th>\n",
       "      <th>EffectiveLength</th>\n",
       "      <th>TPM</th>\n",
       "      <th>NumReads</th>\n",
       "    </tr>\n",
       "  </thead>\n",
       "  <tbody>\n",
       "    <tr>\n",
       "      <th>1</th>\n",
       "      <td>ENST00000456328.2</td>\n",
       "      <td>1657</td>\n",
       "      <td>1562.343</td>\n",
       "      <td>0.517060</td>\n",
       "      <td>2.868</td>\n",
       "    </tr>\n",
       "    <tr>\n",
       "      <th>2</th>\n",
       "      <td>ENST00000450305.2</td>\n",
       "      <td>632</td>\n",
       "      <td>476.000</td>\n",
       "      <td>0.000000</td>\n",
       "      <td>0.000</td>\n",
       "    </tr>\n",
       "    <tr>\n",
       "      <th>3</th>\n",
       "      <td>ENST00000488147.1</td>\n",
       "      <td>1351</td>\n",
       "      <td>1204.010</td>\n",
       "      <td>5.503626</td>\n",
       "      <td>23.525</td>\n",
       "    </tr>\n",
       "    <tr>\n",
       "      <th>4</th>\n",
       "      <td>ENST00000619216.1</td>\n",
       "      <td>68</td>\n",
       "      <td>2.000</td>\n",
       "      <td>0.000000</td>\n",
       "      <td>0.000</td>\n",
       "    </tr>\n",
       "    <tr>\n",
       "      <th>5</th>\n",
       "      <td>ENST00000473358.1</td>\n",
       "      <td>712</td>\n",
       "      <td>556.000</td>\n",
       "      <td>0.000000</td>\n",
       "      <td>0.000</td>\n",
       "    </tr>\n",
       "    <tr>\n",
       "      <th>...</th>\n",
       "      <td>...</td>\n",
       "      <td>...</td>\n",
       "      <td>...</td>\n",
       "      <td>...</td>\n",
       "      <td>...</td>\n",
       "    </tr>\n",
       "    <tr>\n",
       "      <th>236182</th>\n",
       "      <td>ENST00000361681.2</td>\n",
       "      <td>525</td>\n",
       "      <td>373.057</td>\n",
       "      <td>2829.286672</td>\n",
       "      <td>3747.168</td>\n",
       "    </tr>\n",
       "    <tr>\n",
       "      <th>236183</th>\n",
       "      <td>ENST00000387459.1</td>\n",
       "      <td>69</td>\n",
       "      <td>2.000</td>\n",
       "      <td>4388.737724</td>\n",
       "      <td>31.162</td>\n",
       "    </tr>\n",
       "    <tr>\n",
       "      <th>236184</th>\n",
       "      <td>ENST00000361789.2</td>\n",
       "      <td>1141</td>\n",
       "      <td>1012.524</td>\n",
       "      <td>2674.073589</td>\n",
       "      <td>9612.341</td>\n",
       "    </tr>\n",
       "    <tr>\n",
       "      <th>236185</th>\n",
       "      <td>ENST00000387460.2</td>\n",
       "      <td>66</td>\n",
       "      <td>1.000</td>\n",
       "      <td>2496.713494</td>\n",
       "      <td>8.864</td>\n",
       "    </tr>\n",
       "    <tr>\n",
       "      <th>236186</th>\n",
       "      <td>ENST00000387461.2</td>\n",
       "      <td>68</td>\n",
       "      <td>2.000</td>\n",
       "      <td>0.000000</td>\n",
       "      <td>0.000</td>\n",
       "    </tr>\n",
       "  </tbody>\n",
       "</table>\n",
       "<p>236186 rows × 5 columns</p>\n",
       "</div>"
      ],
      "text/plain": [
       "                     Name Length EffectiveLength          TPM  NumReads\n",
       "1       ENST00000456328.2   1657        1562.343     0.517060     2.868\n",
       "2       ENST00000450305.2    632         476.000     0.000000     0.000\n",
       "3       ENST00000488147.1   1351        1204.010     5.503626    23.525\n",
       "4       ENST00000619216.1     68           2.000     0.000000     0.000\n",
       "5       ENST00000473358.1    712         556.000     0.000000     0.000\n",
       "...                   ...    ...             ...          ...       ...\n",
       "236182  ENST00000361681.2    525         373.057  2829.286672  3747.168\n",
       "236183  ENST00000387459.1     69           2.000  4388.737724    31.162\n",
       "236184  ENST00000361789.2   1141        1012.524  2674.073589  9612.341\n",
       "236185  ENST00000387460.2     66           1.000  2496.713494     8.864\n",
       "236186  ENST00000387461.2     68           2.000     0.000000     0.000\n",
       "\n",
       "[236186 rows x 5 columns]"
      ]
     },
     "execution_count": 9,
     "metadata": {},
     "output_type": "execute_result"
    }
   ],
   "source": [
    "import pandas as pd\n",
    "file = open(\"./data/quants/quant.sf\", \"r\")\n",
    "lines = file.readlines()\n",
    "quant_tabs = []\n",
    "for line in lines:\n",
    "    quant_tabs.append(line.strip())\n",
    "file.close()\n",
    "quants = []\n",
    "for i in range(len(quant_tabs)):\n",
    "    quants.append(quant_tabs[i].split('\\t'))\n",
    "quants_df = pd.DataFrame(quants)\n",
    "columns_names = quants[0]\n",
    "quants_df.columns = columns_names\n",
    "quants_df = quants_df.drop([0], axis=0)\n",
    "quants_df"
   ]
  },
  {
   "cell_type": "code",
   "execution_count": 34,
   "id": "f641c842-c6ee-4033-9e76-32169a67718c",
   "metadata": {},
   "outputs": [
    {
     "name": "stdout",
     "output_type": "stream",
     "text": [
      "104600.598748\n",
      "Name               ENST00000387405.1\n",
      "Length                            66\n",
      "EffectiveLength                1.000\n",
      "TPM                    104600.598748\n",
      "NumReads                     371.351\n",
      "Name: 236163, dtype: object\n"
     ]
    }
   ],
   "source": [
    "print(quants_df[\"TPM\"].astype(float).max())\n",
    "print(quants_df.loc[quants_df[\"TPM\"].astype(float).idxmax()])"
   ]
  },
  {
   "cell_type": "code",
   "execution_count": 32,
   "id": "33d212cc-bb73-41bb-a68a-58f2546c8a36",
   "metadata": {},
   "outputs": [
    {
     "data": {
      "text/plain": [
       "104600.598748"
      ]
     },
     "execution_count": 32,
     "metadata": {},
     "output_type": "execute_result"
    }
   ],
   "source": []
  },
  {
   "cell_type": "markdown",
   "id": "d9a1447f-b7f2-4f81-805e-4b3be963ee50",
   "metadata": {},
   "source": [
    "### Задание № 1:"
   ]
  },
  {
   "cell_type": "markdown",
   "id": "0c70031c-409a-4328-8a4c-ef879d247311",
   "metadata": {},
   "source": [
    "1) Найдите ген, имеющий самый высокий уровень экспрессии (TPM)\n",
    "2) По номеру в базе данных ensembl найдите его название https://www.ensembl.org/Homo_sapiens/Info/Index\n",
    "3) Внесите его название в генный банк NCBI https://www.ncbi.nlm.nih.gov/gene\n",
    "4) В клетках каких органов и тканей человека этот ген имеет наибольшую экспрессию?   "
   ]
  },
  {
   "cell_type": "raw",
   "id": "92aacaec-8454-4575-92ca-6431d0ca6b18",
   "metadata": {},
   "source": [
    "Ответы:\n",
    "1) ENST00000387405.1\n",
    "2) MT-TC: https://www.ensembl.org/Homo_sapiens/Gene/Summary?db=core;g=ENSG00000210140;r=MT:5761-5826;t=ENST00000387405\n",
    "3) https://www.ncbi.nlm.nih.gov/gene/4511\n",
    "4) В клетках, которым нужен цистеин"
   ]
  },
  {
   "cell_type": "markdown",
   "id": "d1f02b12-3a03-4148-803e-bd52f3e62643",
   "metadata": {},
   "source": [
    "После выполнения практики, удалите файлы:<br/> \n",
    "**SRR1039508_1_short.fastq<br/> \n",
    "SRR1039508_2_short.fastq<br/> \n",
    "gencode.v38.transcripts.fa.qz**<br/> \n",
    "<br/> \n",
    "А также директорию:<br/> \n",
    "**gencode.v38.transcripts**"
   ]
  }
 ],
 "metadata": {
  "kernelspec": {
   "display_name": "Kernel for NGS practicals",
   "language": "python",
   "name": "ngs"
  },
  "language_info": {
   "codemirror_mode": {
    "name": "ipython",
    "version": 3
   },
   "file_extension": ".py",
   "mimetype": "text/x-python",
   "name": "python",
   "nbconvert_exporter": "python",
   "pygments_lexer": "ipython3",
   "version": "3.7.10"
  }
 },
 "nbformat": 4,
 "nbformat_minor": 5
}
